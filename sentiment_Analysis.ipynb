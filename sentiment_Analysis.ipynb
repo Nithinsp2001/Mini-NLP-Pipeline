from transformers import pipeline

# Load pre-trained sentiment-analysis pipeline
classifier = pipeline("sentiment-analysis")

# Input sentence
sentence = "Despite the high price, the performance of the new MacBook is outstanding."

# Analyze sentiment
result = classifier(sentence)[0]

# Print result
print(f"Sentiment: {result['label']}")
print(f"Confidence Score: {round(result['score'], 4)}")
